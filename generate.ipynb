{
 "cells": [
  {
   "cell_type": "markdown",
   "metadata": {},
   "source": [
    "importlibは一度読み込んだモジュールを再度読み込ませてくれます。"
   ]
  },
  {
   "cell_type": "code",
   "execution_count": 1,
   "metadata": {},
   "outputs": [],
   "source": [
    "import importlib"
   ]
  },
  {
   "cell_type": "markdown",
   "metadata": {},
   "source": [
    "なぜこれが嬉しいのかというと、generate.py内の`MatchData`クラスになんらか変更を加えたときに本来であればカーネルをリスタートしてから再度\n",
    "\n",
    "`import generate as g`\n",
    "\n",
    "を実行する必要があります。\n",
    "\n",
    "importlibを使うと下記のように使うことで、カーネルをリスタートせずにgenerateが読み込めるのでかなり楽です。"
   ]
  },
  {
   "cell_type": "code",
   "execution_count": 6,
   "metadata": {},
   "outputs": [],
   "source": [
    "import generate as g\n",
    "importlib.reload(g);\n",
    "\n",
    "match_data = g.MatchData('2sec_vsToin')"
   ]
  },
  {
   "cell_type": "markdown",
   "metadata": {},
   "source": [
    "なので、\n",
    "\n",
    "1. generate.pyを編集する\n",
    "2. importlib.reload(g)・・上記のセルを実行する\n",
    "3. jupyter notebook内でMatchDataに加えた変更が試せる\n",
    "\n",
    "という開発のフローができます。\n",
    "\n",
    "ただ、3人で同じノートブックを作ると気を使わないといけないところもでてくるので、このノートのコピーを取って自分の名前をつけましょう。\n",
    "\n",
    "以下、スコットが開発してますので触らないでください\n",
    "\n",
    "<hr>"
   ]
  },
  {
   "cell_type": "code",
   "execution_count": 11,
   "metadata": {},
   "outputs": [
    {
     "ename": "AttributeError",
     "evalue": "'MatchData' object has no attribute 'get_event'",
     "output_type": "error",
     "traceback": [
      "\u001b[0;31m---------------------------------------------------------------------------\u001b[0m",
      "\u001b[0;31mAttributeError\u001b[0m                            Traceback (most recent call last)",
      "\u001b[0;32m<ipython-input-11-1373445196bb>\u001b[0m in \u001b[0;36m<module>\u001b[0;34m\u001b[0m\n\u001b[0;32m----> 1\u001b[0;31m \u001b[0mmatch_data\u001b[0m\u001b[0;34m.\u001b[0m\u001b[0mget_event\u001b[0m\u001b[0;34m(\u001b[0m\u001b[0;34m)\u001b[0m\u001b[0;34m\u001b[0m\u001b[0;34m\u001b[0m\u001b[0m\n\u001b[0m",
      "\u001b[0;31mAttributeError\u001b[0m: 'MatchData' object has no attribute 'get_event'"
     ]
    }
   ],
   "source": [
    "match_data.get_event()"
   ]
  },
  {
   "cell_type": "code",
   "execution_count": 19,
   "metadata": {},
   "outputs": [
    {
     "ename": "SyntaxError",
     "evalue": "invalid syntax (<ipython-input-19-f375d192aa41>, line 27)",
     "output_type": "error",
     "traceback": [
      "\u001b[0;36m  File \u001b[0;32m\"<ipython-input-19-f375d192aa41>\"\u001b[0;36m, line \u001b[0;32m27\u001b[0m\n\u001b[0;31m    y =\u001b[0m\n\u001b[0m        ^\u001b[0m\n\u001b[0;31mSyntaxError\u001b[0m\u001b[0;31m:\u001b[0m invalid syntax\n"
     ]
    }
   ],
   "source": [
    "from matplotlib.patches import Arc\n",
    "from matplotlib.offsetbox import OffsetImage, AnnotationBbox\n",
    "import numpy as np\n",
    "def imscatter(x, y, image, ax=None, zoom=1):\n",
    "    if ax is None:\n",
    "        ax = plt.gca()\n",
    "    try:\n",
    "        image = plt.imread(image)\n",
    "    except TypeError:\n",
    "        # Likely already an array...\n",
    "        pass\n",
    "    im = OffsetImage(image, zoom=zoom)\n",
    "    x, y = np.atleast_1d(x, y)\n",
    "    artists = []\n",
    "    for x0, y0 in zip(x, y):\n",
    "        ab = AnnotationBbox(im, (x0, y0), xycoords='data', frameon=False)\n",
    "        artists.append(ax.add_artist(ab))\n",
    "    ax.update_datalim(np.column_stack([x, y]))\n",
    "    ax.autoscale()\n",
    "\n",
    "    return artists\n",
    "\n",
    "\n",
    "fig, ax = plot_pitch()\n",
    "for player, data in match_data.average_positions().items():\n",
    "    x = player, data \n",
    "    y = \n",
    "x = 12.5\n",
    "y = 34\n",
    "x2 = 48\n",
    "y2 = 20\n",
    "imscatter(x, y, 'myTheme/static/images/profile_imgs/mitomakaoru-removebg.png',ax, 0.3)\n",
    "\n",
    "textstr = '\\n'.join((\n",
    "    '%s'% ('三笘薫'),\n",
    "    '走行距離：%.1fKM' % (10, ),\n",
    "    'Player Load：%.1f' % (20, ),\n",
    "    'スプリント回数：%.d' % (40, )))\n",
    "props = dict(boxstyle='round', facecolor='white', alpha=0.8)\n",
    "\n",
    "ax.text(x+5, y+5, textstr, fontsize=14,\n",
    "        verticalalignment='top', bbox=props)\n",
    "\n",
    "imscatter(x2, y2, 'myTheme/static/images/profile_imgs/mitomakaoru-removebg.png',ax, 0.3)\n",
    "\n",
    "textstr = '\\n'.join((\n",
    "    '%s'% ('三笘薫'),\n",
    "    '走行距離：%.1fKM' % (10, ),\n",
    "    'Player Load：%.1f' % (20, ),\n",
    "    'スプリント回数：%.d' % (40, )))\n",
    "props = dict(boxstyle='round', facecolor='white', alpha=0.8)\n",
    "\n",
    "ax.text(x2+5, y2+5, textstr, fontsize=14,\n",
    "        verticalalignment='top', bbox=props)\n",
    "\n",
    "\n",
    "ax.arrow(x, y, (x2-x)/1.2, (y2-y)/1.2, linewidth=3, head_width=1, head_length=1, fc='blue', ec='blue')\n",
    "ax.arrow(x2-1, y2-1, (x-x2)/1.2, (y-y2)/1.2, linewidth=6, head_width=1, head_length=1, fc='red', ec='red')\n",
    "\n",
    "data= [\n",
    "    [ ('高嶺',66), ('三笘',17),  ('加藤',75), ('阿部',57),  ('永満',32)],\n",
    "    [ ('高嶺',58), ('三笘',38),  ('山川',78),  ('阿部',99), ('永満',16)],\n",
    "    [ ('高嶺',89),  ('三笘',80), ('山川',15), ('阿部',49), ('永満',60)],\n",
    "    [ ('高嶺',78),  ('三笘',81), ('山川',15), ('大川',19),  ('永満',69)],\n",
    "    [('高嶺',13), ('山川',33), ('加藤',34), ('大川',78),  ('永満',52)]\n",
    "]\n",
    "\n",
    "cell_text = []\n",
    "columns = ['走行距離', 'HI距離','最高速度','最高速度','スプリント回数']\n",
    "for index, row in enumerate(data):\n",
    "    row.sort(key=lambda tup: tup[1], reverse=True)\n",
    "    cell_text.append(['{0} {1}'.format(name, num) for (name, num) in row])\n",
    "\n",
    "cell_text = list(map(list, zip(*cell_text)))\n",
    "the_table = plt.table(cellText=cell_text, colLabels=columns,\n",
    "                     loc='bottom')\n",
    "\n",
    "\n",
    "plt.tight_layout()\n",
    "# plt.savefig(path+'pitch.png', facecolor='green', bbox_inches='tight')\n",
    "plt.show()"
   ]
  },
  {
   "cell_type": "code",
   "execution_count": 1,
   "metadata": {},
   "outputs": [
    {
     "ename": "NameError",
     "evalue": "name 'match_data' is not defined",
     "output_type": "error",
     "traceback": [
      "\u001b[0;31m---------------------------------------------------------------------------\u001b[0m",
      "\u001b[0;31mNameError\u001b[0m                                 Traceback (most recent call last)",
      "\u001b[0;32m<ipython-input-1-84974ba7eb0c>\u001b[0m in \u001b[0;36m<module>\u001b[0;34m\u001b[0m\n\u001b[0;32m----> 1\u001b[0;31m \u001b[0myam\u001b[0m \u001b[0;34m=\u001b[0m \u001b[0mmatch_data\u001b[0m\u001b[0;34m.\u001b[0m\u001b[0myaml\u001b[0m\u001b[0;34m\u001b[0m\u001b[0;34m\u001b[0m\u001b[0m\n\u001b[0m",
      "\u001b[0;31mNameError\u001b[0m: name 'match_data' is not defined"
     ]
    }
   ],
   "source": [
    "yam = match_data.yaml"
   ]
  },
  {
   "cell_type": "code",
   "execution_count": 21,
   "metadata": {},
   "outputs": [
    {
     "ename": "NameError",
     "evalue": "name 'f' is not defined",
     "output_type": "error",
     "traceback": [
      "\u001b[0;31m---------------------------------------------------------------------------\u001b[0m",
      "\u001b[0;31mNameError\u001b[0m                                 Traceback (most recent call last)",
      "\u001b[0;32m<ipython-input-21-ad5d540c15e0>\u001b[0m in \u001b[0;36m<module>\u001b[0;34m\u001b[0m\n\u001b[1;32m     10\u001b[0m \u001b[0;34m\u001b[0m\u001b[0m\n\u001b[1;32m     11\u001b[0m \u001b[0;34m\u001b[0m\u001b[0m\n\u001b[0;32m---> 12\u001b[0;31m \u001b[0mscale\u001b[0m \u001b[0;34m=\u001b[0m \u001b[0;36m105\u001b[0m \u001b[0;34m/\u001b[0m \u001b[0mnp\u001b[0m\u001b[0;34m.\u001b[0m\u001b[0mlinalg\u001b[0m\u001b[0;34m.\u001b[0m\u001b[0mnorm\u001b[0m\u001b[0;34m(\u001b[0m\u001b[0mf\u001b[0m\u001b[0;34m(\u001b[0m\u001b[0myam\u001b[0m\u001b[0;34m[\u001b[0m\u001b[0;34m'p1'\u001b[0m\u001b[0;34m]\u001b[0m\u001b[0;34m)\u001b[0m\u001b[0;34m-\u001b[0m\u001b[0mf\u001b[0m\u001b[0;34m(\u001b[0m\u001b[0myam\u001b[0m\u001b[0;34m[\u001b[0m\u001b[0;34m'p3'\u001b[0m\u001b[0;34m]\u001b[0m\u001b[0;34m)\u001b[0m\u001b[0;34m)\u001b[0m\u001b[0;34m\u001b[0m\u001b[0;34m\u001b[0m\u001b[0m\n\u001b[0m\u001b[1;32m     13\u001b[0m \u001b[0mangle\u001b[0m \u001b[0;34m=\u001b[0m \u001b[0mang\u001b[0m\u001b[0;34m(\u001b[0m\u001b[0mf\u001b[0m\u001b[0;34m(\u001b[0m\u001b[0myam\u001b[0m\u001b[0;34m[\u001b[0m\u001b[0;34m'p1'\u001b[0m\u001b[0;34m]\u001b[0m\u001b[0;34m)\u001b[0m\u001b[0;34m-\u001b[0m\u001b[0mf\u001b[0m\u001b[0;34m(\u001b[0m\u001b[0myam\u001b[0m\u001b[0;34m[\u001b[0m\u001b[0;34m'p3'\u001b[0m\u001b[0;34m]\u001b[0m\u001b[0;34m)\u001b[0m\u001b[0;34m,\u001b[0m \u001b[0mnp\u001b[0m\u001b[0;34m.\u001b[0m\u001b[0masarray\u001b[0m\u001b[0;34m(\u001b[0m\u001b[0;34m[\u001b[0m\u001b[0;36m0\u001b[0m\u001b[0;34m,\u001b[0m \u001b[0;36m105\u001b[0m\u001b[0;34m]\u001b[0m\u001b[0;34m)\u001b[0m\u001b[0;34m)\u001b[0m\u001b[0;34m\u001b[0m\u001b[0;34m\u001b[0m\u001b[0m\n\u001b[1;32m     14\u001b[0m \u001b[0;34m\u001b[0m\u001b[0m\n",
      "\u001b[0;31mNameError\u001b[0m: name 'f' is not defined"
     ]
    }
   ],
   "source": [
    "import math\n",
    "def dotproduct(v1, v2):\n",
    "    return sum((a*b) for a, b in zip(v1, v2))\n",
    "\n",
    "def length(v):\n",
    "    return math.sqrt(dotproduct(v, v))\n",
    "\n",
    "def ang(v1, v2):\n",
    "    return math.acos(dotproduct(v1, v2) / (length(v1) * length(v2)))\n",
    "\n",
    "\n",
    "scale = 105 / np.linalg.norm(f(yam['p1'])-f(yam['p3'])) \n",
    "angle = ang(f(yam['p1'])-f(yam['p3']), np.asarray([0, 105]))\n",
    "\n",
    "trans_mat = np.asarray([\n",
    "    [1, 0, -f(yam['p1'])[0]],\n",
    "    [0, 1, -f(yam['p1'])[1]],\n",
    "    [0,0,1]\n",
    "])\n",
    "\n",
    "scale_mat = np.asarray([\n",
    "    [scale, 0, 0],\n",
    "    [0, scale, 0],\n",
    "    [0,0,1]\n",
    "])\n",
    "\n",
    "rot_mat = np.asarray([\n",
    "    [np.cos(angle),-np.sin(angle), 0],\n",
    "    [np.sin(angle), np.cos(angle), 0],\n",
    "    [0,0,1]\n",
    "])"
   ]
  },
  {
   "cell_type": "code",
   "execution_count": 22,
   "metadata": {},
   "outputs": [
    {
     "ename": "NameError",
     "evalue": "name 'trans_mat' is not defined",
     "output_type": "error",
     "traceback": [
      "\u001b[0;31m---------------------------------------------------------------------------\u001b[0m",
      "\u001b[0;31mNameError\u001b[0m                                 Traceback (most recent call last)",
      "\u001b[0;32m<ipython-input-22-e64124f2c87f>\u001b[0m in \u001b[0;36m<module>\u001b[0;34m\u001b[0m\n\u001b[0;32m----> 1\u001b[0;31m \u001b[0ma\u001b[0m \u001b[0;34m=\u001b[0m \u001b[0mtrans_mat\u001b[0m \u001b[0;34m@\u001b[0m \u001b[0mnp\u001b[0m\u001b[0;34m.\u001b[0m\u001b[0mappend\u001b[0m\u001b[0;34m(\u001b[0m\u001b[0mf\u001b[0m\u001b[0;34m(\u001b[0m\u001b[0myam\u001b[0m\u001b[0;34m[\u001b[0m\u001b[0;34m'p3'\u001b[0m\u001b[0;34m]\u001b[0m\u001b[0;34m)\u001b[0m\u001b[0;34m,\u001b[0m\u001b[0;34m[\u001b[0m\u001b[0;36m1\u001b[0m\u001b[0;34m]\u001b[0m\u001b[0;34m)\u001b[0m\u001b[0;34m\u001b[0m\u001b[0;34m\u001b[0m\u001b[0m\n\u001b[0m\u001b[1;32m      2\u001b[0m \u001b[0mb\u001b[0m \u001b[0;34m=\u001b[0m \u001b[0mscale_mat\u001b[0m \u001b[0;34m@\u001b[0m \u001b[0ma\u001b[0m\u001b[0;34m\u001b[0m\u001b[0;34m\u001b[0m\u001b[0m\n\u001b[1;32m      3\u001b[0m \u001b[0mc\u001b[0m \u001b[0;34m=\u001b[0m \u001b[0mrot_mat\u001b[0m \u001b[0;34m@\u001b[0m \u001b[0mb\u001b[0m\u001b[0;34m\u001b[0m\u001b[0;34m\u001b[0m\u001b[0m\n\u001b[1;32m      4\u001b[0m \u001b[0mc\u001b[0m\u001b[0;34m\u001b[0m\u001b[0;34m\u001b[0m\u001b[0m\n",
      "\u001b[0;31mNameError\u001b[0m: name 'trans_mat' is not defined"
     ]
    }
   ],
   "source": [
    "a = trans_mat @ np.append(f(yam['p3']),[1])\n",
    "b = scale_mat @ a\n",
    "c = rot_mat @ b\n",
    "c"
   ]
  },
  {
   "cell_type": "code",
   "execution_count": 23,
   "metadata": {},
   "outputs": [
    {
     "ename": "NameError",
     "evalue": "name 'scale' is not defined",
     "output_type": "error",
     "traceback": [
      "\u001b[0;31m---------------------------------------------------------------------------\u001b[0m",
      "\u001b[0;31mNameError\u001b[0m                                 Traceback (most recent call last)",
      "\u001b[0;32m<ipython-input-23-d9622373c32e>\u001b[0m in \u001b[0;36m<module>\u001b[0;34m\u001b[0m\n\u001b[0;32m----> 1\u001b[0;31m \u001b[0mscale\u001b[0m \u001b[0;34m*\u001b[0m \u001b[0mnp\u001b[0m\u001b[0;34m.\u001b[0m\u001b[0mlinalg\u001b[0m\u001b[0;34m.\u001b[0m\u001b[0mnorm\u001b[0m\u001b[0;34m(\u001b[0m\u001b[0mf\u001b[0m\u001b[0;34m(\u001b[0m\u001b[0myam\u001b[0m\u001b[0;34m[\u001b[0m\u001b[0;34m'p1'\u001b[0m\u001b[0;34m]\u001b[0m\u001b[0;34m)\u001b[0m\u001b[0;34m-\u001b[0m\u001b[0mf\u001b[0m\u001b[0;34m(\u001b[0m\u001b[0myam\u001b[0m\u001b[0;34m[\u001b[0m\u001b[0;34m'p2'\u001b[0m\u001b[0;34m]\u001b[0m\u001b[0;34m)\u001b[0m\u001b[0;34m)\u001b[0m\u001b[0;34m\u001b[0m\u001b[0;34m\u001b[0m\u001b[0m\n\u001b[0m",
      "\u001b[0;31mNameError\u001b[0m: name 'scale' is not defined"
     ]
    }
   ],
   "source": [
    "scale * np.linalg.norm(f(yam['p1'])-f(yam['p2'])) "
   ]
  },
  {
   "cell_type": "code",
   "execution_count": 24,
   "metadata": {},
   "outputs": [
    {
     "ename": "NameError",
     "evalue": "name 'cv2' is not defined",
     "output_type": "error",
     "traceback": [
      "\u001b[0;31m---------------------------------------------------------------------------\u001b[0m",
      "\u001b[0;31mNameError\u001b[0m                                 Traceback (most recent call last)",
      "\u001b[0;32m<ipython-input-24-21f31a9f7e26>\u001b[0m in \u001b[0;36m<module>\u001b[0;34m\u001b[0m\n\u001b[0;32m----> 1\u001b[0;31m \u001b[0mM\u001b[0m \u001b[0;34m=\u001b[0m \u001b[0mcv2\u001b[0m\u001b[0;34m.\u001b[0m\u001b[0mgetAffineTransform\u001b[0m\u001b[0;34m(\u001b[0m\u001b[0;34m[\u001b[0m\u001b[0;34m(\u001b[0m\u001b[0;36m0\u001b[0m\u001b[0;34m,\u001b[0m\u001b[0;36m0\u001b[0m\u001b[0;34m)\u001b[0m\u001b[0;34m,\u001b[0m \u001b[0;34m(\u001b[0m\u001b[0;36m58\u001b[0m\u001b[0;34m,\u001b[0m\u001b[0;36m0\u001b[0m\u001b[0;34m)\u001b[0m\u001b[0;34m,\u001b[0m \u001b[0;34m(\u001b[0m\u001b[0;36m58\u001b[0m\u001b[0;34m,\u001b[0m\u001b[0;36m105\u001b[0m\u001b[0;34m)\u001b[0m\u001b[0;34m]\u001b[0m\u001b[0;34m,\u001b[0m \u001b[0;34m[\u001b[0m\u001b[0mf\u001b[0m\u001b[0;34m(\u001b[0m\u001b[0myam\u001b[0m\u001b[0;34m[\u001b[0m\u001b[0;34m'p1'\u001b[0m\u001b[0;34m]\u001b[0m\u001b[0;34m)\u001b[0m\u001b[0;34m,\u001b[0m\u001b[0mf\u001b[0m\u001b[0;34m(\u001b[0m\u001b[0myam\u001b[0m\u001b[0;34m[\u001b[0m\u001b[0;34m'p2'\u001b[0m\u001b[0;34m]\u001b[0m\u001b[0;34m)\u001b[0m\u001b[0;34m,\u001b[0m\u001b[0mf\u001b[0m\u001b[0;34m(\u001b[0m\u001b[0myam\u001b[0m\u001b[0;34m[\u001b[0m\u001b[0;34m'p3'\u001b[0m\u001b[0;34m]\u001b[0m\u001b[0;34m)\u001b[0m\u001b[0;34m]\u001b[0m\u001b[0;34m)\u001b[0m\u001b[0;34m\u001b[0m\u001b[0;34m\u001b[0m\u001b[0m\n\u001b[0m",
      "\u001b[0;31mNameError\u001b[0m: name 'cv2' is not defined"
     ]
    }
   ],
   "source": [
    "M = cv2.getAffineTransform([(0,0), (58,0), (58,105)], [f(yam['p1']),f(yam['p2']),f(yam['p3'])])"
   ]
  },
  {
   "cell_type": "code",
   "execution_count": 25,
   "metadata": {},
   "outputs": [
    {
     "data": {
      "text/plain": [
       "matrix([[ 9.31322575e-10, -1.86264515e-09]])"
      ]
     },
     "execution_count": 25,
     "metadata": {},
     "output_type": "execute_result"
    }
   ],
   "source": [
    "def f(x):\n",
    "    x = x.split(',')\n",
    "    return np.asarray(x, dtype=np.float64())\n",
    "\n",
    "def solve_affine( p1, p2, p3, s1, s2, s3):\n",
    "    x = np.transpose(np.matrix([p1,p2,p3]))\n",
    "    y = np.transpose(np.matrix([s1,s2,s3]))\n",
    "    # add ones on the bottom of x and y\n",
    "    x = np.vstack((x,[1,1,1]))\n",
    "    y = np.vstack((y,[1,1,1]))\n",
    "    # solve for A2\n",
    "    A2 = y * x.I\n",
    "    # return function that takes input x and transforms it\n",
    "    # don't need to return the 4th row as it is \n",
    "    return A2\n",
    "\n",
    "def pitch_co(x, y):\n",
    "    def solve_affine( p1, p2, p3, s1, s2, s3):\n",
    "        x = np.transpose(np.matrix([p1,p2,p3]))\n",
    "        y = np.transpose(np.matrix([s1,s2,s3]))\n",
    "        # add ones on the bottom of x and y\n",
    "        x = np.vstack((x,[1,1,1]))\n",
    "        y = np.vstack((y,[1,1,1]))\n",
    "        # solve for A2\n",
    "        A2 = y * x.I\n",
    "        # return function that takes input x and transforms it\n",
    "        # don't need to return the 4th row as it is \n",
    "        return A2\n",
    "\n",
    "    M = solve_affine(f(yam['p1']),f(yam['p2']),f(yam['p3']),\n",
    "                 (0,0,1), (58,0,1), (0,105,1))\n",
    "    return (M @ np.asarray([x,y,1]))[0,:2]\n",
    "\n",
    "pitch_co(*f(yam['p1']))"
   ]
  },
  {
   "cell_type": "code",
   "execution_count": 31,
   "metadata": {},
   "outputs": [
    {
     "name": "stderr",
     "output_type": "stream",
     "text": [
      "/home/atom/anaconda3/lib/python3.7/site-packages/ipykernel_launcher.py:46: DeprecationWarning: 'U' mode is deprecated\n"
     ]
    },
    {
     "data": {
      "image/png": "[encoded data removed]",
      "text/plain": [
       "<Figure size 432x288 with 1 Axes>"
      ]
     },
     "metadata": {
      "needs_background": "light"
     },
     "output_type": "display_data"
    }
   ],
   "source": [
    "for name, player in match_data.average_positions().items():\n",
    "    x = pitch_co(*player)[0,0]\n",
    "    y = pitch_co(*player)[0,1]\n",
    "    \n",
    "#     plot_pitch()\n",
    "    if x > 0 :\n",
    "        plt.scatter(x,y)\n",
    "\n",
    "#     print(x,y)\n",
    "#     print(name, pitch_co(*player))"
   ]
  },
  {
   "cell_type": "code",
   "execution_count": 32,
   "metadata": {},
   "outputs": [
    {
     "data": {
      "text/plain": [
       "6250468.026396591"
      ]
     },
     "execution_count": 32,
     "metadata": {},
     "output_type": "execute_result"
    }
   ],
   "source": [
    "x"
   ]
  },
  {
   "cell_type": "code",
   "execution_count": null,
   "metadata": {},
   "outputs": [],
   "source": []
  }
 ],
 "metadata": {
  "kernelspec": {
   "display_name": "Python 3",
   "language": "python",
   "name": "python3"
  },
  "language_info": {
   "codemirror_mode": {
    "name": "ipython",
    "version": 3
   },
   "file_extension": ".py",
   "mimetype": "text/x-python",
   "name": "python",
   "nbconvert_exporter": "python",
   "pygments_lexer": "ipython3",
   "version": "3.7.3"
  }
 },
 "nbformat": 4,
 "nbformat_minor": 4
}
