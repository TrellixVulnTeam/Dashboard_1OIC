{
 "cells": [
  {
   "cell_type": "markdown",
   "metadata": {},
   "source": [
    "# JリーグにおけるxGに関する探索的データ解析"
   ]
  },
  {
   "cell_type": "markdown",
   "metadata": {},
   "source": [
    "xG（ゴール期待値）を計算することによって、１試合において実際に決めたゴール数ではなく、入るべきだったゴールが分かります。\n",
    "この指標を用いることでチャンスメイクの数の評価やチャンスをどのぐらいものにできたのかも定量的に評価できます。\n",
    "\n",
    "xGは様々なモデルがありますが、それらを定量的に評価しているものは少ないです。また、日本でどのモデルが最適化という研究も一切されていません。\n",
    "そこで私達はJリーグのデータを活用して、どのようなデータを使えば最適なxGモデルができるのかについて研究しました。"
   ]
  },
  {
   "cell_type": "code",
   "execution_count": null,
   "metadata": {},
   "outputs": [],
   "source": []
  },
  {
   "cell_type": "code",
   "execution_count": 1,
   "metadata": {
    "scrolled": true
   },
   "outputs": [],
   "source": [
    "# 下準備に今回使うライブラリと使うデータを最初にすべて読み込む\n",
    "\n",
    "import pandas as pd\n",
    "import matplotlib as mpl\n",
    "import matplotlib.pyplot as plt\n",
    "import sklearn as sl\n",
    "import numpy as np\n",
    "import chainer\n",
    "\n",
    "df = pd.read_csv('shootdata.csv',encoding='SHIFT_JIS')"
   ]
  },
  {
   "cell_type": "markdown",
   "metadata": {},
   "source": [
    "dfにはシュート時の詳細なデータが含まれています。\n",
    "どこで、どの選手がどこにシュートを打ったのか。またそれが入ったのか入らなかったのか。\n",
    "これらのことが分かります。"
   ]
  },
  {
   "cell_type": "code",
   "execution_count": 2,
   "metadata": {},
   "outputs": [
    {
     "data": {
      "text/html": [
       "<div>\n",
       "<style scoped>\n",
       "    .dataframe tbody tr th:only-of-type {\n",
       "        vertical-align: middle;\n",
       "    }\n",
       "\n",
       "    .dataframe tbody tr th {\n",
       "        vertical-align: top;\n",
       "    }\n",
       "\n",
       "    .dataframe thead th {\n",
       "        text-align: right;\n",
       "    }\n",
       "</style>\n",
       "<table border=\"1\" class=\"dataframe\">\n",
       "  <thead>\n",
       "    <tr style=\"text-align: right;\">\n",
       "      <th></th>\n",
       "      <th>date</th>\n",
       "      <th>shootnum</th>\n",
       "      <th>playnum</th>\n",
       "      <th>yearnum</th>\n",
       "      <th>Jleague</th>\n",
       "      <th>seasonid</th>\n",
       "      <th>round</th>\n",
       "      <th>homeaway</th>\n",
       "      <th>teamid</th>\n",
       "      <th>gameid</th>\n",
       "      <th>...</th>\n",
       "      <th>boaly</th>\n",
       "      <th>cellid</th>\n",
       "      <th>pk</th>\n",
       "      <th>official</th>\n",
       "      <th>officialteamid</th>\n",
       "      <th>officialplayerid</th>\n",
       "      <th>officialpartid</th>\n",
       "      <th>a</th>\n",
       "      <th>b</th>\n",
       "      <th>c</th>\n",
       "    </tr>\n",
       "  </thead>\n",
       "  <tbody>\n",
       "    <tr>\n",
       "      <th>count</th>\n",
       "      <td>1.218000e+03</td>\n",
       "      <td>1218.000000</td>\n",
       "      <td>1.218000e+03</td>\n",
       "      <td>1218.0</td>\n",
       "      <td>1218.0</td>\n",
       "      <td>1218.0</td>\n",
       "      <td>1218.0</td>\n",
       "      <td>1218.000000</td>\n",
       "      <td>1218.000000</td>\n",
       "      <td>1218.000000</td>\n",
       "      <td>...</td>\n",
       "      <td>1218.000000</td>\n",
       "      <td>1218.000000</td>\n",
       "      <td>1218.000000</td>\n",
       "      <td>1218.000000</td>\n",
       "      <td>1218.000000</td>\n",
       "      <td>1.218000e+03</td>\n",
       "      <td>1218.000000</td>\n",
       "      <td>1218.000000</td>\n",
       "      <td>1218.0</td>\n",
       "      <td>1218.0</td>\n",
       "    </tr>\n",
       "    <tr>\n",
       "      <th>mean</th>\n",
       "      <td>2.016102e+09</td>\n",
       "      <td>15.115764</td>\n",
       "      <td>1.825251e+08</td>\n",
       "      <td>30028.0</td>\n",
       "      <td>2.0</td>\n",
       "      <td>3.0</td>\n",
       "      <td>1.0</td>\n",
       "      <td>1.487685</td>\n",
       "      <td>151.368637</td>\n",
       "      <td>1.592775</td>\n",
       "      <td>...</td>\n",
       "      <td>0.373153</td>\n",
       "      <td>157.082923</td>\n",
       "      <td>0.006568</td>\n",
       "      <td>0.789819</td>\n",
       "      <td>117.452381</td>\n",
       "      <td>7.350515e+05</td>\n",
       "      <td>1.434319</td>\n",
       "      <td>0.302956</td>\n",
       "      <td>0.0</td>\n",
       "      <td>24.0</td>\n",
       "    </tr>\n",
       "    <tr>\n",
       "      <th>std</th>\n",
       "      <td>5.574658e+03</td>\n",
       "      <td>9.205616</td>\n",
       "      <td>1.038465e+08</td>\n",
       "      <td>0.0</td>\n",
       "      <td>0.0</td>\n",
       "      <td>0.0</td>\n",
       "      <td>0.0</td>\n",
       "      <td>0.500054</td>\n",
       "      <td>50.116196</td>\n",
       "      <td>0.491519</td>\n",
       "      <td>...</td>\n",
       "      <td>27.212298</td>\n",
       "      <td>109.460576</td>\n",
       "      <td>0.080811</td>\n",
       "      <td>0.407604</td>\n",
       "      <td>74.685172</td>\n",
       "      <td>5.516319e+05</td>\n",
       "      <td>0.957282</td>\n",
       "      <td>0.459725</td>\n",
       "      <td>0.0</td>\n",
       "      <td>0.0</td>\n",
       "    </tr>\n",
       "    <tr>\n",
       "      <th>min</th>\n",
       "      <td>2.016093e+09</td>\n",
       "      <td>1.000000</td>\n",
       "      <td>5.367000e+03</td>\n",
       "      <td>30028.0</td>\n",
       "      <td>2.0</td>\n",
       "      <td>3.0</td>\n",
       "      <td>1.0</td>\n",
       "      <td>1.000000</td>\n",
       "      <td>86.000000</td>\n",
       "      <td>1.000000</td>\n",
       "      <td>...</td>\n",
       "      <td>-86.500000</td>\n",
       "      <td>5.000000</td>\n",
       "      <td>0.000000</td>\n",
       "      <td>0.000000</td>\n",
       "      <td>0.000000</td>\n",
       "      <td>0.000000e+00</td>\n",
       "      <td>0.000000</td>\n",
       "      <td>0.000000</td>\n",
       "      <td>0.0</td>\n",
       "      <td>24.0</td>\n",
       "    </tr>\n",
       "    <tr>\n",
       "      <th>25%</th>\n",
       "      <td>2.016100e+09</td>\n",
       "      <td>7.000000</td>\n",
       "      <td>8.391531e+07</td>\n",
       "      <td>30028.0</td>\n",
       "      <td>2.0</td>\n",
       "      <td>3.0</td>\n",
       "      <td>1.0</td>\n",
       "      <td>1.000000</td>\n",
       "      <td>124.000000</td>\n",
       "      <td>1.000000</td>\n",
       "      <td>...</td>\n",
       "      <td>-18.000000</td>\n",
       "      <td>39.250000</td>\n",
       "      <td>0.000000</td>\n",
       "      <td>1.000000</td>\n",
       "      <td>86.000000</td>\n",
       "      <td>4.430000e+03</td>\n",
       "      <td>1.000000</td>\n",
       "      <td>0.000000</td>\n",
       "      <td>0.0</td>\n",
       "      <td>24.0</td>\n",
       "    </tr>\n",
       "    <tr>\n",
       "      <th>50%</th>\n",
       "      <td>2.016102e+09</td>\n",
       "      <td>14.000000</td>\n",
       "      <td>2.078744e+08</td>\n",
       "      <td>30028.0</td>\n",
       "      <td>2.0</td>\n",
       "      <td>3.0</td>\n",
       "      <td>1.0</td>\n",
       "      <td>1.000000</td>\n",
       "      <td>131.000000</td>\n",
       "      <td>2.000000</td>\n",
       "      <td>...</td>\n",
       "      <td>0.000000</td>\n",
       "      <td>217.000000</td>\n",
       "      <td>0.000000</td>\n",
       "      <td>1.000000</td>\n",
       "      <td>128.000000</td>\n",
       "      <td>8.002100e+05</td>\n",
       "      <td>2.000000</td>\n",
       "      <td>0.000000</td>\n",
       "      <td>0.0</td>\n",
       "      <td>24.0</td>\n",
       "    </tr>\n",
       "    <tr>\n",
       "      <th>75%</th>\n",
       "      <td>2.016103e+09</td>\n",
       "      <td>22.000000</td>\n",
       "      <td>2.753538e+08</td>\n",
       "      <td>30028.0</td>\n",
       "      <td>2.0</td>\n",
       "      <td>3.0</td>\n",
       "      <td>1.0</td>\n",
       "      <td>2.000000</td>\n",
       "      <td>150.000000</td>\n",
       "      <td>2.000000</td>\n",
       "      <td>...</td>\n",
       "      <td>19.500000</td>\n",
       "      <td>263.000000</td>\n",
       "      <td>0.000000</td>\n",
       "      <td>1.000000</td>\n",
       "      <td>136.000000</td>\n",
       "      <td>1.201326e+06</td>\n",
       "      <td>2.000000</td>\n",
       "      <td>1.000000</td>\n",
       "      <td>0.0</td>\n",
       "      <td>24.0</td>\n",
       "    </tr>\n",
       "    <tr>\n",
       "      <th>max</th>\n",
       "      <td>2.016110e+09</td>\n",
       "      <td>43.000000</td>\n",
       "      <td>3.522037e+08</td>\n",
       "      <td>30028.0</td>\n",
       "      <td>2.0</td>\n",
       "      <td>3.0</td>\n",
       "      <td>1.0</td>\n",
       "      <td>2.000000</td>\n",
       "      <td>270.000000</td>\n",
       "      <td>2.000000</td>\n",
       "      <td>...</td>\n",
       "      <td>69.500000</td>\n",
       "      <td>295.000000</td>\n",
       "      <td>1.000000</td>\n",
       "      <td>1.000000</td>\n",
       "      <td>270.000000</td>\n",
       "      <td>1.604111e+06</td>\n",
       "      <td>3.000000</td>\n",
       "      <td>1.000000</td>\n",
       "      <td>0.0</td>\n",
       "      <td>24.0</td>\n",
       "    </tr>\n",
       "  </tbody>\n",
       "</table>\n",
       "<p>8 rows × 37 columns</p>\n",
       "</div>"
      ],
      "text/plain": [
       "               date     shootnum       playnum  yearnum  Jleague  seasonid  \\\n",
       "count  1.218000e+03  1218.000000  1.218000e+03   1218.0   1218.0    1218.0   \n",
       "mean   2.016102e+09    15.115764  1.825251e+08  30028.0      2.0       3.0   \n",
       "std    5.574658e+03     9.205616  1.038465e+08      0.0      0.0       0.0   \n",
       "min    2.016093e+09     1.000000  5.367000e+03  30028.0      2.0       3.0   \n",
       "25%    2.016100e+09     7.000000  8.391531e+07  30028.0      2.0       3.0   \n",
       "50%    2.016102e+09    14.000000  2.078744e+08  30028.0      2.0       3.0   \n",
       "75%    2.016103e+09    22.000000  2.753538e+08  30028.0      2.0       3.0   \n",
       "max    2.016110e+09    43.000000  3.522037e+08  30028.0      2.0       3.0   \n",
       "\n",
       "        round     homeaway       teamid       gameid   ...          boaly  \\\n",
       "count  1218.0  1218.000000  1218.000000  1218.000000   ...    1218.000000   \n",
       "mean      1.0     1.487685   151.368637     1.592775   ...       0.373153   \n",
       "std       0.0     0.500054    50.116196     0.491519   ...      27.212298   \n",
       "min       1.0     1.000000    86.000000     1.000000   ...     -86.500000   \n",
       "25%       1.0     1.000000   124.000000     1.000000   ...     -18.000000   \n",
       "50%       1.0     1.000000   131.000000     2.000000   ...       0.000000   \n",
       "75%       1.0     2.000000   150.000000     2.000000   ...      19.500000   \n",
       "max       1.0     2.000000   270.000000     2.000000   ...      69.500000   \n",
       "\n",
       "            cellid           pk     official  officialteamid  \\\n",
       "count  1218.000000  1218.000000  1218.000000     1218.000000   \n",
       "mean    157.082923     0.006568     0.789819      117.452381   \n",
       "std     109.460576     0.080811     0.407604       74.685172   \n",
       "min       5.000000     0.000000     0.000000        0.000000   \n",
       "25%      39.250000     0.000000     1.000000       86.000000   \n",
       "50%     217.000000     0.000000     1.000000      128.000000   \n",
       "75%     263.000000     0.000000     1.000000      136.000000   \n",
       "max     295.000000     1.000000     1.000000      270.000000   \n",
       "\n",
       "       officialplayerid  officialpartid            a       b       c  \n",
       "count      1.218000e+03     1218.000000  1218.000000  1218.0  1218.0  \n",
       "mean       7.350515e+05        1.434319     0.302956     0.0    24.0  \n",
       "std        5.516319e+05        0.957282     0.459725     0.0     0.0  \n",
       "min        0.000000e+00        0.000000     0.000000     0.0    24.0  \n",
       "25%        4.430000e+03        1.000000     0.000000     0.0    24.0  \n",
       "50%        8.002100e+05        2.000000     0.000000     0.0    24.0  \n",
       "75%        1.201326e+06        2.000000     1.000000     0.0    24.0  \n",
       "max        1.604111e+06        3.000000     1.000000     0.0    24.0  \n",
       "\n",
       "[8 rows x 37 columns]"
      ]
     },
     "execution_count": 2,
     "metadata": {},
     "output_type": "execute_result"
    }
   ],
   "source": [
    "df.describe()"
   ]
  },
  {
   "cell_type": "code",
   "execution_count": 4,
   "metadata": {},
   "outputs": [
    {
     "name": "stdout",
     "output_type": "stream",
     "text": [
      "['date' 'shootnum' 'playnum' 'yearnum' 'Jleague' 'seasonid' 'round'\n",
      " 'homeaway' 'teamid' 'gameid' 'time' 'shootplayerid' 'shootplayer'\n",
      " 'goalposition' 'goalx' 'goaly' 'shootpart' 'shoottype' 'gkx' 'gky'\n",
      " 'success' 'distance' 'vgoal' 'gkplayerid' 'gkplayer' 'assist' 'owngoal'\n",
      " 'action' 'boalx' 'boaly' 'cellcoad' 'cellid' 'pk' 'official'\n",
      " 'officialteamid' 'officialplayerid' 'officialpartid' 'a' 'b' 'c']\n"
     ]
    }
   ],
   "source": [
    "print(df.columns.values)"
   ]
  },
  {
   "cell_type": "markdown",
   "metadata": {},
   "source": [
    "## 最も基本的なゴール期待値\n",
    "\n",
    "ゴール期待値の最も簡単なモデルはシュートを打ったときの\n",
    "\n",
    "・ゴールからの距離\n",
    "\n",
    "・ゴールとの角度\n",
    "\n",
    "の２つのデータを取り入れたものなります。\n",
    "\n",
    "ここでは、同じことを意味するシュート時のボールのx,y座標を用いてゴール期待値を計算しようと思います。"
   ]
  },
  {
   "cell_type": "markdown",
   "metadata": {},
   "source": [
    "### 座標と成功・失敗の可視化"
   ]
  },
  {
   "cell_type": "code",
   "execution_count": 3,
   "metadata": {
    "scrolled": true
   },
   "outputs": [
    {
     "data": {
      "image/png": "[encoded data removed]",
      "text/plain": [
       "<Figure size 432x288 with 1 Axes>"
      ]
     },
     "metadata": {},
     "output_type": "display_data"
    }
   ],
   "source": [
    "# ｘ，ｙ座標データとシュートの成功（１）、失敗（０）データをdfから取り出します。\n",
    "x = df['boalx']\n",
    "y = df['boaly']\n",
    "label = df['success']\n",
    "        \n",
    "# ピッチを描く関数を定義します。\n",
    "def plot_pitch():\n",
    "    areax = [157.5,157.5,-157.5,-157.5,157.5]\n",
    "    areay = [102,-102,-102,102,102]\n",
    "    plt.plot(areax,areay,color='black')\n",
    "    centerx = [0,0]\n",
    "    centery = [-102,102]\n",
    "    plt.plot(centerx,centery,color='black')\n",
    "    rpax = [157.5,108,108,157.5]\n",
    "    rpay = [-60.48,-60.48,60.48,60.48]\n",
    "    plt.plot(rpax,rpay,color='black')\n",
    "    lpax = [-157.5,-108,-108,-157.5]\n",
    "    lpay = [-60.48,-60.48,60.48,60.48]\n",
    "    plt.plot(lpax,lpay,color='black')\n",
    "\n",
    "    \n",
    "#　シュートを打った位置とゴールしたかを可視化します。\n",
    "plot_pitch()\n",
    "plt.scatter(x,y,c=label)\n",
    "plt.show()"
   ]
  },
  {
   "cell_type": "markdown",
   "metadata": {},
   "source": [
    "しかし、ここで問題発生です。\n",
    "攻撃方向が２つあるのでどちらかの方向に合わせなくてはなりません。\n",
    "正しい方法ではありませんが、今は応急処置として左側の店を右側に全部反転します。"
   ]
  },
  {
   "cell_type": "code",
   "execution_count": 6,
   "metadata": {},
   "outputs": [
    {
     "name": "stderr",
     "output_type": "stream",
     "text": [
      "/usr/lib/python3/dist-packages/ipykernel_launcher.py:4: SettingWithCopyWarning: \n",
      "A value is trying to be set on a copy of a slice from a DataFrame\n",
      "\n",
      "See the caveats in the documentation: http://pandas.pydata.org/pandas-docs/stable/indexing.html#indexing-view-versus-copy\n",
      "  after removing the cwd from sys.path.\n"
     ]
    },
    {
     "data": {
      "image/png": "[encoded data removed]",
      "text/plain": [
       "<Figure size 432x288 with 1 Axes>"
      ]
     },
     "metadata": {},
     "output_type": "display_data"
    }
   ],
   "source": [
    "#　真ん中は０なので、負の値に-1をかけます\n",
    "for index,element in enumerate(x):\n",
    "    if element < 0:\n",
    "        x[index] *= -1\n",
    "\n",
    "plot_pitch()\n",
    "plt.scatter(x,y,c=label)\n",
    "plt.show()"
   ]
  },
  {
   "cell_type": "markdown",
   "metadata": {},
   "source": [
    "## 単変量解析分析\n",
    "### 線形モデルの作成"
   ]
  },
  {
   "cell_type": "code",
   "execution_count": 7,
   "metadata": {
    "scrolled": false
   },
   "outputs": [
    {
     "name": "stdout",
     "output_type": "stream",
     "text": [
      "係数: \n",
      " [[0.000191]]\n",
      "平均二乗誤差: 0.08\n",
      "Variance score: -0.00\n"
     ]
    },
    {
     "data": {
      "image/png": "[encoded data removed]",
      "text/plain": [
       "<Figure size 432x288 with 1 Axes>"
      ]
     },
     "metadata": {},
     "output_type": "display_data"
    },
    {
     "name": "stdout",
     "output_type": "stream",
     "text": [
      "係数: \n",
      " [[0.00032494]]\n",
      "平均二乗誤差: 0.08\n",
      "Variance score: -0.00\n"
     ]
    },
    {
     "data": {
      "image/png": "[encoded data removed]",
      "text/plain": [
       "<Figure size 432x288 with 1 Axes>"
      ]
     },
     "metadata": {},
     "output_type": "display_data"
    }
   ],
   "source": [
    "from sklearn import datasets, linear_model, model_selection\n",
    "from sklearn.metrics import mean_squared_error, r2_score\n",
    "\n",
    "# sklearn用にデータの形を整理します。\n",
    "X = x.values.reshape(-1,1)\n",
    "Y = y.values.reshape(-1,1)\n",
    "L = label.values.reshape(-1,1)\n",
    "# トレーニング用とテスト用にデータを分割します。\n",
    "# 7:3に分割します。\n",
    "X_train, X_test = model_selection.train_test_split(X, test_size=0.1)\n",
    "Y_train, Y_test = model_selection.train_test_split(Y, test_size=0.1)\n",
    "L_train, L_test = model_selection.train_test_split(L, test_size=0.1)\n",
    "\n",
    "#  線形モデルを作成します。\n",
    "regr = linear_model.LinearRegression()\n",
    "# 線形モデルを学習させます。\n",
    "regr.fit(X_train, L_train)\n",
    "\n",
    "# 学習済みの線形モデルにテストデータを入れて、ゴールしたかを予想します。\n",
    "L_pred = regr.predict(X_test)\n",
    "\n",
    "# 係数表示\n",
    "print('係数: \\n', regr.coef_)\n",
    "# 平均二乗誤差表示\n",
    "print(\"平均二乗誤差: %.2f\" % mean_squared_error(L_test, L_pred))\n",
    "\n",
    "# Explained variance score: 1 ならば完璧な予測\n",
    "print('Variance score: %.2f' % r2_score(L_test, L_pred))\n",
    "\n",
    "# 結果をプロット\n",
    "plt.scatter(X_test, L_test,  color='black')\n",
    "plt.plot(X_test, L_pred, color='blue', linewidth=3)\n",
    "plt.xticks(())\n",
    "plt.yticks(())\n",
    "plt.title('x Linear Regression')\n",
    "plt.show()\n",
    "\n",
    "#  線形モデルを作成します。\n",
    "regr = linear_model.LinearRegression()\n",
    "Y = y.values.reshape(-1,1)\n",
    "regr.fit(Y_train, L_train)\n",
    "L_pred = regr.predict(Y_test)\n",
    "print('係数: \\n', regr.coef_)\n",
    "print(\"平均二乗誤差: %.2f\" % mean_squared_error(L_test, L_pred))\n",
    "print('Variance score: %.2f' % r2_score(L_test, L_pred))\n",
    "plt.scatter(Y_test, L_test,  color='black')\n",
    "plt.plot(Y_test, L_pred, color='blue', linewidth=3)\n",
    "plt.xticks(())\n",
    "plt.yticks(())\n",
    "plt.title('y Linear Regression')\n",
    "plt.show()\n"
   ]
  },
  {
   "cell_type": "code",
   "execution_count": 66,
   "metadata": {},
   "outputs": [
    {
     "data": {
      "image/png": "[encoded data removed]",
      "text/plain": [
       "<Figure size 432x288 with 1 Axes>"
      ]
     },
     "metadata": {},
     "output_type": "display_data"
    },
    {
     "data": {
      "image/png": "[encoded data removed]",
      "text/plain": [
       "<Figure size 432x288 with 1 Axes>"
      ]
     },
     "metadata": {},
     "output_type": "display_data"
    }
   ],
   "source": [
    "from sklearn import datasets, linear_model, model_selection\n",
    "from sklearn.metrics import mean_squared_error, r2_score\n",
    "\n",
    "# sklearn用にデータの形を整理します。\n",
    "X = x.values.reshape(-1,1)\n",
    "Y = y.values.reshape(-1,1)\n",
    "L = label.values.reshape(-1,1)\n",
    "# トレーニング用とテスト用にデータを分割します。\n",
    "# 7:3に分割します。\n",
    "X_train, X_test = model_selection.train_test_split(X, test_size=0.1)\n",
    "Y_train, Y_test = model_selection.train_test_split(Y, test_size=0.1)\n",
    "L_train, L_test = model_selection.train_test_split(L, test_size=0.1)\n",
    "\n",
    "p = np.polyfit(x, label, 3)\n",
    "p = np.poly1d(p)\n",
    "\n",
    "xp = np.linspace(0, 157, 157)\n",
    "_ = plt.plot(x, label, '.', xp, p(xp), '--')\n",
    "plt.show()\n",
    "\n",
    "\n",
    "p = np.polyfit(y, label, 3)\n",
    "p = np.poly1d(p)\n",
    "\n",
    "xp = np.linspace(-102, 102, 204)\n",
    "_ = plt.plot(y, label, '.', xp, p(xp), '--')\n",
    "plt.show()"
   ]
  },
  {
   "cell_type": "markdown",
   "metadata": {},
   "source": [
    "### ロジスティック回帰"
   ]
  },
  {
   "cell_type": "code",
   "execution_count": 54,
   "metadata": {},
   "outputs": [
    {
     "ename": "TypeError",
     "evalue": "'numpy.ndarray' object is not callable",
     "output_type": "error",
     "traceback": [
      "\u001b[0;31m---------------------------------------------------------------------------\u001b[0m",
      "\u001b[0;31mTypeError\u001b[0m                                 Traceback (most recent call last)",
      "\u001b[0;32m<ipython-input-54-5a786ac4beee>\u001b[0m in \u001b[0;36m<module>\u001b[0;34m()\u001b[0m\n\u001b[0;32m----> 1\u001b[0;31m \u001b[0mp\u001b[0m\u001b[0;34m(\u001b[0m\u001b[0;36m5\u001b[0m\u001b[0;34m)\u001b[0m\u001b[0;34m\u001b[0m\u001b[0m\n\u001b[0m",
      "\u001b[0;31mTypeError\u001b[0m: 'numpy.ndarray' object is not callable"
     ]
    }
   ],
   "source": [
    "p(5)"
   ]
  },
  {
   "cell_type": "code",
   "execution_count": 8,
   "metadata": {},
   "outputs": [
    {
     "name": "stdout",
     "output_type": "stream",
     "text": [
      "係数: \n",
      " [[-0.00190031]]\n",
      "平均二乗誤差: 0.09\n",
      "Variance score: -0.10\n"
     ]
    },
    {
     "name": "stderr",
     "output_type": "stream",
     "text": [
      "/home/atom/.local/lib/python3.6/site-packages/sklearn/linear_model/logistic.py:432: FutureWarning: Default solver will be changed to 'lbfgs' in 0.22. Specify a solver to silence this warning.\n",
      "  FutureWarning)\n",
      "/home/atom/.local/lib/python3.6/site-packages/sklearn/utils/validation.py:752: DataConversionWarning: A column-vector y was passed when a 1d array was expected. Please change the shape of y to (n_samples, ), for example using ravel().\n",
      "  y = column_or_1d(y, warn=True)\n"
     ]
    },
    {
     "data": {
      "image/png": "[encoded data removed]",
      "text/plain": [
       "<Figure size 432x288 with 1 Axes>"
      ]
     },
     "metadata": {},
     "output_type": "display_data"
    },
    {
     "name": "stderr",
     "output_type": "stream",
     "text": [
      "/home/atom/.local/lib/python3.6/site-packages/sklearn/linear_model/logistic.py:432: FutureWarning: Default solver will be changed to 'lbfgs' in 0.22. Specify a solver to silence this warning.\n",
      "  FutureWarning)\n",
      "/home/atom/.local/lib/python3.6/site-packages/sklearn/utils/validation.py:752: DataConversionWarning: A column-vector y was passed when a 1d array was expected. Please change the shape of y to (n_samples, ), for example using ravel().\n",
      "  y = column_or_1d(y, warn=True)\n"
     ]
    },
    {
     "name": "stdout",
     "output_type": "stream",
     "text": [
      "係数: \n",
      " [[0.0034752]]\n",
      "平均二乗誤差: 0.09\n",
      "Variance score: -0.10\n"
     ]
    },
    {
     "data": {
      "image/png": "[encoded data removed]",
      "text/plain": [
       "<Figure size 432x288 with 1 Axes>"
      ]
     },
     "metadata": {},
     "output_type": "display_data"
    }
   ],
   "source": [
    "log_reg = linear_model.LogisticRegression()\n",
    "log_reg.fit(X_train, L_train)\n",
    "L_pred = log_reg.predict(X_test)\n",
    "print('係数: \\n', log_reg.coef_)\n",
    "print(\"平均二乗誤差: %.2f\" % mean_squared_error(L_test, L_pred))\n",
    "print('Variance score: %.2f' % r2_score(L_test, L_pred))\n",
    "plt.scatter(X_test, L_test,  color='black')\n",
    "plt.plot(X_test, L_pred, color='blue', linewidth=3)\n",
    "plt.xticks(())\n",
    "plt.yticks(())\n",
    "plt.title('x Logistic Regression')\n",
    "plt.show()\n",
    "\n",
    "log_reg = linear_model.LogisticRegression()\n",
    "log_reg.fit(Y_train, L_train)\n",
    "L_pred = log_reg.predict(Y_test)\n",
    "print('係数: \\n', log_reg.coef_)\n",
    "print(\"平均二乗誤差: %.2f\" % mean_squared_error(L_test, L_pred))\n",
    "print('Variance score: %.2f' % r2_score(L_test, L_pred))\n",
    "plt.scatter(Y_test, L_test,  color='black')\n",
    "plt.plot(Y_test, L_pred, color='blue', linewidth=3)\n",
    "plt.xticks(())\n",
    "plt.yticks(())\n",
    "plt.title('y Logistic Regression')\n",
    "plt.show()"
   ]
  },
  {
   "cell_type": "code",
   "execution_count": null,
   "metadata": {
    "scrolled": true
   },
   "outputs": [],
   "source": []
  },
  {
   "cell_type": "markdown",
   "metadata": {},
   "source": [
    "## ２変量回帰分析\n",
    "### 線形回帰&ロジスティック回帰"
   ]
  },
  {
   "cell_type": "code",
   "execution_count": 27,
   "metadata": {},
   "outputs": [
    {
     "name": "stdout",
     "output_type": "stream",
     "text": [
      "係数: \n",
      " [[ 5.68184202e-04 -3.76795700e-05]]\n",
      "平均二乗誤差: 0.10\n",
      "Variance score: -0.01\n",
      "係数: \n",
      " [[ 5.68184202e-04 -3.76795700e-05]]\n",
      "平均二乗誤差: 0.12\n",
      "Variance score: -0.14\n"
     ]
    },
    {
     "name": "stderr",
     "output_type": "stream",
     "text": [
      "/home/atom/.local/lib/python3.6/site-packages/sklearn/linear_model/logistic.py:432: FutureWarning: Default solver will be changed to 'lbfgs' in 0.22. Specify a solver to silence this warning.\n",
      "  FutureWarning)\n",
      "/home/atom/.local/lib/python3.6/site-packages/sklearn/utils/validation.py:752: DataConversionWarning: A column-vector y was passed when a 1d array was expected. Please change the shape of y to (n_samples, ), for example using ravel().\n",
      "  y = column_or_1d(y, warn=True)\n"
     ]
    }
   ],
   "source": [
    "X = X+157.5\n",
    "Y = Y+102\n",
    "data = np.hstack([X,Y])\n",
    "\n",
    "#  線形モデル\n",
    "regr = linear_model.LinearRegression()\n",
    "X_train, X_test = model_selection.train_test_split(data, test_size=0.3)\n",
    "L_train, L_test = model_selection.train_test_split(L, test_size=0.3)\n",
    "regr.fit(X_train, L_train)\n",
    "L_pred = regr.predict(X_test)\n",
    "print('係数: \\n', regr.coef_)\n",
    "print(\"平均二乗誤差: %.2f\" % mean_squared_error(L_test, L_pred))\n",
    "print('Variance score: %.2f' % r2_score(L_test, L_pred))\n",
    "\n",
    "#  ロジスティックモデル\n",
    "log_reg = linear_model.LogisticRegression()\n",
    "X_train, X_test = model_selection.train_test_split(data, test_size=0.3)\n",
    "L_train, L_test = model_selection.train_test_split(L, test_size=0.3)\n",
    "log_reg.fit(X_train, L_train)\n",
    "L_pred = log_reg.predict(X_test)\n",
    "print('係数: \\n', regr.coef_)\n",
    "print(\"平均二乗誤差: %.2f\" % mean_squared_error(L_test, L_pred))\n",
    "print('Variance score: %.2f' % r2_score(L_test, L_pred))"
   ]
  },
  {
   "cell_type": "markdown",
   "metadata": {},
   "source": [
    "## 可視化"
   ]
  },
  {
   "cell_type": "code",
   "execution_count": 33,
   "metadata": {},
   "outputs": [
    {
     "data": {
      "image/png": "[encoded data removed]",
      "text/plain": [
       "<Figure size 432x288 with 1 Axes>"
      ]
     },
     "metadata": {},
     "output_type": "display_data"
    }
   ],
   "source": [
    "plt.scatter(X,Y)\n",
    "plt.show()"
   ]
  },
  {
   "cell_type": "code",
   "execution_count": 39,
   "metadata": {},
   "outputs": [
    {
     "name": "stdout",
     "output_type": "stream",
     "text": [
      "[[-0.51722936 -0.51716041 -0.51709145 ... -0.49578559 -0.49571664\n",
      "  -0.49564769]\n",
      " [-0.51494803 -0.51487908 -0.51481012 ... -0.49350426 -0.49343531\n",
      "  -0.49336636]\n",
      " [-0.5126667  -0.51259775 -0.51252879 ... -0.49122293 -0.49115398\n",
      "  -0.49108503]\n",
      " ...\n",
      " [-0.05868206 -0.05861311 -0.05854416 ... -0.0372383  -0.03716935\n",
      "  -0.03710039]\n",
      " [-0.05640073 -0.05633178 -0.05626283 ... -0.03495697 -0.03488802\n",
      "  -0.03481906]\n",
      " [-0.0541194  -0.05405045 -0.0539815  ... -0.03267564 -0.03260669\n",
      "  -0.03253774]]\n"
     ]
    },
    {
     "data": {
      "image/png": "[encoded data removed]",
      "text/plain": [
       "<Figure size 432x288 with 2 Axes>"
      ]
     },
     "metadata": {},
     "output_type": "display_data"
    }
   ],
   "source": [
    "#  線形モデル\n",
    "# X_train, X_test = model_selection.train_test_split(data, test_size=0)\n",
    "# L_train, L_test = model_selection.train_test_split(L, test_size=0)\n",
    "regr.fit(data, L)\n",
    "\n",
    "x_range = np.linspace(0,157*2,157*2)\n",
    "y_range = np.linspace(0,102*2,102*2)\n",
    "\n",
    "pred_map = np.zeros([len(y_range),len(x_range)])\n",
    "for x_index,_x in enumerate(x_range):\n",
    "    for y_index,_y in enumerate(y_range):\n",
    "        val = regr.predict([[_y,_x]])\n",
    "        pred_map[y_index][x_index] = val\n",
    "        \n",
    "#         print('x: {0}, y: {1} -> {2}%'.format(_x,_y,  val))\n",
    "    \n",
    "print(pred_map)\n",
    "plt.imshow(pred_map)\n",
    "plt.colorbar()\n",
    "plt.scatter(X,Y)\n",
    "plt.show()"
   ]
  },
  {
   "cell_type": "code",
   "execution_count": 107,
   "metadata": {},
   "outputs": [
    {
     "name": "stderr",
     "output_type": "stream",
     "text": [
      "/home/atom/.local/lib/python3.6/site-packages/sklearn/linear_model/logistic.py:432: FutureWarning: Default solver will be changed to 'lbfgs' in 0.22. Specify a solver to silence this warning.\n",
      "  FutureWarning)\n",
      "/home/atom/.local/lib/python3.6/site-packages/sklearn/utils/validation.py:752: DataConversionWarning: A column-vector y was passed when a 1d array was expected. Please change the shape of y to (n_samples, ), for example using ravel().\n",
      "  y = column_or_1d(y, warn=True)\n"
     ]
    },
    {
     "data": {
      "image/png": "[encoded data removed]",
      "text/plain": [
       "<Figure size 432x288 with 2 Axes>"
      ]
     },
     "metadata": {},
     "output_type": "display_data"
    }
   ],
   "source": [
    "#  ロジスティックモデル\n",
    "X_train, X_test = model_selection.train_test_split(data, test_size=0)\n",
    "L_train, L_test = model_selection.train_test_split(L, test_size=0)\n",
    "log_reg.fit(X_train, L_train)\n",
    "\n",
    "x_range = np.linspace(-157,157,157*2)\n",
    "y_range = np.linspace(-102,102,102*2)\n",
    "\n",
    "pred_map = np.zeros([len(x_range),len(y_range)])\n",
    "for x_index,_x in enumerate(x_range):\n",
    "    for y_index,_y in enumerate(y_range):\n",
    "        pred_map[x_index][y_index] = log_reg.predict([[_x,_y]])\n",
    "    \n",
    "plt.imshow(pred_map, extent=[-157, 157,-102, 102])\n",
    "plot_pitch()\n",
    "plt.colorbar()\n",
    "plt.show()"
   ]
  },
  {
   "cell_type": "code",
   "execution_count": null,
   "metadata": {},
   "outputs": [],
   "source": []
  },
  {
   "cell_type": "markdown",
   "metadata": {},
   "source": [
    "## Deep Learningの活用"
   ]
  },
  {
   "cell_type": "code",
   "execution_count": 42,
   "metadata": {},
   "outputs": [
    {
     "data": {
      "text/plain": [
       "(array([[238. ,  52.5],\n",
       "        [289.5,  99. ],\n",
       "        [271.5, 131.5],\n",
       "        ...,\n",
       "        [278.5, 115. ],\n",
       "        [299.5, 116. ],\n",
       "        [294. ,  92.5]]), array([[0],\n",
       "        [0],\n",
       "        [0],\n",
       "        ...,\n",
       "        [0],\n",
       "        [1],\n",
       "        [0]]))"
      ]
     },
     "execution_count": 42,
     "metadata": {},
     "output_type": "execute_result"
    }
   ],
   "source": [
    "data = np.hstack([X,Y])\n",
    "data, L"
   ]
  },
  {
   "cell_type": "code",
   "execution_count": 46,
   "metadata": {
    "scrolled": true
   },
   "outputs": [
    {
     "ename": "AttributeError",
     "evalue": "module 'chainer.optimizers' has no attribute 'Adamax'",
     "output_type": "error",
     "traceback": [
      "\u001b[0;31m---------------------------------------------------------------------------\u001b[0m",
      "\u001b[0;31mAttributeError\u001b[0m                            Traceback (most recent call last)",
      "\u001b[0;32m<ipython-input-46-bdfb86969b35>\u001b[0m in \u001b[0;36m<module>\u001b[0;34m()\u001b[0m\n\u001b[1;32m     35\u001b[0m \u001b[0;34m\u001b[0m\u001b[0m\n\u001b[1;32m     36\u001b[0m \u001b[0;31m# Choose an optimizer algorithm\u001b[0m\u001b[0;34m\u001b[0m\u001b[0;34m\u001b[0m\u001b[0m\n\u001b[0;32m---> 37\u001b[0;31m \u001b[0moptimizer\u001b[0m \u001b[0;34m=\u001b[0m \u001b[0moptimizers\u001b[0m\u001b[0;34m.\u001b[0m\u001b[0mAdamax\u001b[0m\u001b[0;34m(\u001b[0m\u001b[0;34m)\u001b[0m\u001b[0;34m\u001b[0m\u001b[0m\n\u001b[0m\u001b[1;32m     38\u001b[0m \u001b[0;34m\u001b[0m\u001b[0m\n\u001b[1;32m     39\u001b[0m \u001b[0;31m# Give the optimizer a reference to the model so that it\u001b[0m\u001b[0;34m\u001b[0m\u001b[0;34m\u001b[0m\u001b[0m\n",
      "\u001b[0;31mAttributeError\u001b[0m: module 'chainer.optimizers' has no attribute 'Adamax'"
     ]
    }
   ],
   "source": [
    "import numpy as np\n",
    "import chainer\n",
    "from chainer.backends import cuda\n",
    "from chainer import Function, gradient_check, report, training, utils, Variable\n",
    "from chainer import datasets, iterators, optimizers, serializers\n",
    "from chainer import Link, Chain, ChainList\n",
    "import chainer.functions as F\n",
    "import chainer.links as L\n",
    "from chainer.training import extensions\n",
    "\n",
    "train = datasets.TupleDataset(data.astype('float32'),label)\n",
    "batchsize = 1\n",
    "\n",
    "train_iter = iterators.SerialIterator(train, batchsize)\n",
    "    \n",
    "class MLP(Chain):\n",
    "\n",
    "    def __init__(self, n_mid_units=3, n_out=1):\n",
    "        super(MLP, self).__init__()\n",
    "        with self.init_scope():\n",
    "            self.l1 = L.Linear(2, n_mid_units)\n",
    "            self.l2 = L.Linear(None, n_mid_units)\n",
    "            self.l3 = L.Linear(None, 1)\n",
    "\n",
    "    def __call__(self, x):\n",
    "        h1 = F.tanh(self.l1(x))\n",
    "        h2 = F.tanh(self.l2(h1))\n",
    "        return F.sigmoid(self.l3(h2))\n",
    "\n",
    "gpu_id = -1  # Set to -1 if you use CPU\n",
    "\n",
    "model = MLP()\n",
    "if gpu_id >= 0:\n",
    "    model.to_gpu(gpu_id)\n",
    "    \n",
    "# Choose an optimizer algorithm\n",
    "optimizer = optimizers.Adamax()\n",
    "\n",
    "# Give the optimizer a reference to the model so that it\n",
    "# can locate the model's parameters.\n",
    "optimizer.setup(model)\n",
    "\n",
    "import numpy as np\n",
    "from chainer.dataset import concat_examples\n",
    "from chainer.backends.cuda import to_cpu\n",
    "\n",
    "max_epoch = 10\n",
    "while train_iter.epoch < max_epoch:\n",
    "\n",
    "    # ---------- One iteration of the training loop ----------\n",
    "    train_batch = train_iter.next()\n",
    "    image_train, target_train = concat_examples(train_batch, gpu_id)\n",
    "\n",
    "    # Calculate the prediction of the network\n",
    "    prediction_train = model(image_train)\n",
    "\n",
    "    # Calculate the loss with softmax_cross_entropy\n",
    "    loss =  F.mean_squared_error(prediction_train, target_train.astype('float32').reshape(-1,1))\n",
    "\n",
    "    # Calculate the gradients in the network\n",
    "    model.cleargrads()\n",
    "    loss.backward()\n",
    "\n",
    "    # Update all the trainable parameters\n",
    "    optimizer.update()\n",
    "    # --------------------- until here ---------------------\n",
    "\n",
    "    # Check the validation accuracy of prediction after every epoch\n",
    "    if train_iter.is_new_epoch:  # If this iteration is the final iteration of the current epoch\n",
    "\n",
    "        # Display the training loss\n",
    "        print('epoch:{:02d} train_loss:{:.04f} '.format(\n",
    "            train_iter.epoch, float(to_cpu(loss.data))))"
   ]
  },
  {
   "cell_type": "code",
   "execution_count": null,
   "metadata": {
    "scrolled": false
   },
   "outputs": [],
   "source": [
    "pred_map = np.zeros([len(x_range),len(y_range)])\n",
    "for x_index,_x in enumerate(x_range):\n",
    "    for y_index,_y in enumerate(y_range):\n",
    "        pred_map[x_index][y_index] = model(np.asarray([[_x.astype('float32'),_y.astype('float32')]])).data\n",
    "    \n",
    "plt.imshow(pred_map, extent=[-157, 157,-102, 102])\n",
    "plot_pitch()\n",
    "plt.colorbar()\n",
    "plt.show()"
   ]
  },
  {
   "cell_type": "code",
   "execution_count": 210,
   "metadata": {
    "scrolled": true
   },
   "outputs": [
    {
     "name": "stdout",
     "output_type": "stream",
     "text": [
      "[1,  1218] loss: 0.061\n",
      "tensor([136.5000,  -9.5000]) tensor([0.]) tensor([0.0492]) tensor(0.0024)\n",
      "[2,  1218] loss: 0.059\n",
      "tensor([136.5000,  -9.5000]) tensor([0.]) tensor([0.0485]) tensor(0.0024)\n",
      "[3,  1218] loss: 0.057\n",
      "tensor([136.5000,  -9.5000]) tensor([0.]) tensor([0.0526]) tensor(0.0028)\n",
      "[4,  1218] loss: 0.056\n",
      "tensor([136.5000,  -9.5000]) tensor([0.]) tensor([0.0542]) tensor(0.0029)\n",
      "[5,  1218] loss: 0.055\n",
      "tensor([136.5000,  -9.5000]) tensor([0.]) tensor([0.0528]) tensor(0.0028)\n",
      "[6,  1218] loss: 0.055\n",
      "tensor([136.5000,  -9.5000]) tensor([0.]) tensor([0.0561]) tensor(0.0032)\n",
      "[7,  1218] loss: 0.054\n",
      "tensor([136.5000,  -9.5000]) tensor([0.]) tensor([0.0605]) tensor(0.0037)\n",
      "[8,  1218] loss: 0.054\n",
      "tensor([136.5000,  -9.5000]) tensor([0.]) tensor([0.0635]) tensor(0.0040)\n",
      "[9,  1218] loss: 0.054\n",
      "tensor([136.5000,  -9.5000]) tensor([0.]) tensor([0.0694]) tensor(0.0048)\n",
      "[10,  1218] loss: 0.054\n",
      "tensor([136.5000,  -9.5000]) tensor([0.]) tensor([0.0676]) tensor(0.0046)\n",
      "Finished Training\n"
     ]
    }
   ],
   "source": [
    "import torch\n",
    "import torchvision\n",
    "import torchvision.transforms as transforms\n",
    "\n",
    "import torch.nn as nn\n",
    "import torch.nn.functional as F\n",
    "\n",
    "\n",
    "class Net(nn.Module):\n",
    "    def __init__(self):\n",
    "        super(Net, self).__init__()\n",
    "        self.fc1 = nn.Linear(2, 100)\n",
    "        self.fc2 = nn.Linear(100, 100)\n",
    "        self.fc3 = nn.Linear(100, 1)\n",
    "\n",
    "\n",
    "    def forward(self, x):\n",
    "        x = torch.sigmoid(self.fc1(x))\n",
    "        x = torch.sigmoid(self.fc2(x))\n",
    "        x = self.fc3(x)\n",
    "        return x\n",
    "    \n",
    "data = np.hstack([X,Y])\n",
    "\n",
    "net = Net()\n",
    "\n",
    "import torch.optim as optim\n",
    "\n",
    "criterion = nn.MSELoss()\n",
    "optimizer = optim.Adam(net.parameters())\n",
    "\n",
    "for epoch in range(10):  # loop over the dataset multiple times\n",
    "\n",
    "    running_loss = 0.0\n",
    "    for i, (x,y) in enumerate(data, 0):\n",
    "        inputs = torch.from_numpy(np.asarray([x,y])).float()\n",
    "        l = torch.from_numpy(np.asarray([label[i]])).float()\n",
    "        optimizer.zero_grad()\n",
    "\n",
    "        # forward + backward + optimize\n",
    "        outputs = net(inputs)\n",
    "        loss = criterion(outputs, l)\n",
    "        loss.backward()\n",
    "        optimizer.step()\n",
    "        # print statistics\n",
    "        running_loss += loss.item()\n",
    "    print('[%d, %5d] loss: %.3f' %\n",
    "          (epoch + 1, i + 1, running_loss / 2000))\n",
    "    print(inputs, l, outputs.data,loss.data)\n",
    "    running_loss = 0.0\n",
    "\n",
    "mn = nn.Threshold(0, 0)\n",
    "mx = nn.Threshold(-1, -1)\n",
    "for epoch in range(1000):  # loop over the dataset multiple times\n",
    "\n",
    "    running_loss = 0.0\n",
    "    for i, (x,y) in enumerate(data, 0):\n",
    "        inputs = torch.from_numpy(np.asarray([x,y])).float()\n",
    "        l = torch.from_numpy(np.asarray([label[i]])).float()\n",
    "        optimizer.zero_grad()\n",
    "        outputs = mn(outputs)\n",
    "        outputs = mx(-outputs)\n",
    "        # forward + backward + optimize\n",
    "        outputs = net(inputs)\n",
    "        loss = criterion(outputs, l)\n",
    "        loss.backward()\n",
    "        optimizer.step()\n",
    "        # print statistics\n",
    "        running_loss += loss.item()\n",
    "#     print('[%d, %5d] loss: %.3f' %\n",
    "#           (epoch + 1, i + 1, running_loss / 2000))\n",
    "#     print(inputs, l, outputs.data,loss.data)\n",
    "    running_loss = 0.0\n",
    "\n",
    "print('Finished Training')"
   ]
  },
  {
   "cell_type": "code",
   "execution_count": 214,
   "metadata": {},
   "outputs": [
    {
     "data": {
      "image/png": "[encoded data removed]",
      "text/plain": [
       "<Figure size 432x288 with 2 Axes>"
      ]
     },
     "metadata": {},
     "output_type": "display_data"
    }
   ],
   "source": [
    "pred_map = np.zeros([len(x_range),len(y_range)])\n",
    "for x_index,_x in enumerate(x_range):\n",
    "    for y_index,_y in enumerate(y_range):\n",
    "        inputs = torch.tensor([_x,_y])\n",
    "        outputs = net(inputs)\n",
    "        outputs = mn(outputs)\n",
    "\n",
    "        pred_map[x_index][y_index] = outputs\n",
    "\n",
    "plt.imshow(pred_map, extent=[-157, 157,-102, 102])\n",
    "plot_pitch()\n",
    "plt.colorbar()\n",
    "plt.show()"
   ]
  },
  {
   "cell_type": "code",
   "execution_count": 138,
   "metadata": {},
   "outputs": [
    {
     "data": {
      "text/plain": [
       "tensor([100.,  67.])"
      ]
     },
     "metadata": {},
     "output_type": "display_data"
    },
    {
     "data": {
      "text/plain": [
       "tensor([0.])"
      ]
     },
     "metadata": {},
     "output_type": "display_data"
    },
    {
     "data": {
      "text/plain": [
       "tensor([-0.1086])"
      ]
     },
     "metadata": {},
     "output_type": "display_data"
    },
    {
     "data": {
      "text/plain": [
       "tensor(0.0118)"
      ]
     },
     "metadata": {},
     "output_type": "display_data"
    }
   ],
   "source": [
    "print(inputs, l, outputs.data,loss.data)\n"
   ]
  },
  {
   "cell_type": "code",
   "execution_count": 208,
   "metadata": {},
   "outputs": [
    {
     "name": "stdout",
     "output_type": "stream",
     "text": [
      "tensor([0.0163])\n",
      "tensor([0.0163])\n"
     ]
    }
   ],
   "source": [
    "mn = nn.Threshold(0, 0)\n",
    "input = torch.tensor([0.0163])\n",
    "print(input)\n",
    "output = mn(input)\n",
    "mx = nn.Threshold(-1, -1)\n",
    "output = mx(-output)\n",
    "print(-output)"
   ]
  },
  {
   "cell_type": "code",
   "execution_count": 71,
   "metadata": {},
   "outputs": [
    {
     "ename": "NameError",
     "evalue": "name 'torchvision' is not defined",
     "output_type": "error",
     "traceback": [
      "\u001b[0;31m---------------------------------------------------------------------------\u001b[0m",
      "\u001b[0;31mNameError\u001b[0m                                 Traceback (most recent call last)",
      "\u001b[0;32m<ipython-input-71-df39e54f572e>\u001b[0m in \u001b[0;36m<module>\u001b[0;34m()\u001b[0m\n\u001b[1;32m      1\u001b[0m \u001b[0;34m\u001b[0m\u001b[0m\n\u001b[0;32m----> 2\u001b[0;31m testset = torchvision.datasets.CIFAR10(root='./data', train=False,\n\u001b[0m\u001b[1;32m      3\u001b[0m                                        download=True, transform=transform)\n",
      "\u001b[0;31mNameError\u001b[0m: name 'torchvision' is not defined"
     ]
    }
   ],
   "source": [
    "\n",
    "testset = torchvision.datasets.CIFAR10(root='./data', train=False,\n",
    "                                       download=True, transform=transform)"
   ]
  },
  {
   "cell_type": "code",
   "execution_count": null,
   "metadata": {},
   "outputs": [],
   "source": []
  },
  {
   "cell_type": "code",
   "execution_count": null,
   "metadata": {},
   "outputs": [],
   "source": []
  },
  {
   "cell_type": "code",
   "execution_count": null,
   "metadata": {},
   "outputs": [],
   "source": []
  }
 ],
 "metadata": {
  "kernelspec": {
   "display_name": "Python 3",
   "language": "python",
   "name": "python3"
  },
  "language_info": {
   "codemirror_mode": {
    "name": "ipython",
    "version": 3
   },
   "file_extension": ".py",
   "mimetype": "text/x-python",
   "name": "python",
   "nbconvert_exporter": "python",
   "pygments_lexer": "ipython3",
   "version": "3.6.7"
  }
 },
 "nbformat": 4,
 "nbformat_minor": 2
}
